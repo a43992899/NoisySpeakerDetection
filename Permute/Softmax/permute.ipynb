{
 "cells": [
  {
   "cell_type": "code",
   "execution_count": 3,
   "metadata": {},
   "outputs": [],
   "source": [
    "import os\n",
    "import numpy as np\n",
    "import pickle\n",
    "import json\n",
    "import random\n",
    "from tqdm import tqdm\n",
    "\n",
    "db = \"/home/yrb/code/speechbrain/data/voxceleb/vox2/spmel\"\n",
    "permute_rate = 20"
   ]
  },
  {
   "cell_type": "code",
   "execution_count": null,
   "metadata": {},
   "outputs": [],
   "source": [
    "npy_list = os.listdir(db)\n",
    "files = [os.path.join(db, f) for f in npy_list if f.endswith(\".npy\")]\n",
    "# filename without extension\n",
    "spkrID_list = [f[:-4] for f in npy_list if f.endswith(\".npy\")]\n",
    "mislabel_dict = {}\n",
    "for f in tqdm(files):\n",
    "    data = np.load(f)\n",
    "    for i in range(data.shape[0]):\n",
    "        # get random float between 0 and 1\n",
    "        if random.random() <= permute_rate/100:\n",
    "            # remove filepath\n",
    "            filename = os.path.split(f)[-1][:-4]\n",
    "            key = filename + \"_{}\".format(i)\n",
    "            # sample a random speaker\n",
    "            mislabel_dict[key] = random.sample(spkrID_list, 1)[0]"
   ]
  },
  {
   "cell_type": "code",
   "execution_count": 10,
   "metadata": {},
   "outputs": [],
   "source": [
    "# save to json\n",
    "with open(f\"/home/yrb/code/speechbrain/data/jsons/Permute/voxceleb2_{permute_rate}%_mislabel.json\", \"w\") as f:\n",
    "    json.dump(mislabel_dict, f)"
   ]
  },
  {
   "cell_type": "markdown",
   "metadata": {},
   "source": [
    "# Stat file size"
   ]
  },
  {
   "cell_type": "code",
   "execution_count": 7,
   "metadata": {},
   "outputs": [],
   "source": [
    "# stats of file size\n",
    "def stat(db):\n",
    "    files = os.listdir(db)\n",
    "    size = [os.path.getsize(os.path.join(db, f))/(1024*1024) for f in files if f.endswith(\".npy\")]\n",
    "    \n",
    "    # print file size > 2MB\n",
    "    return size\n",
    "\n",
    "\n",
    "size = stat(db)"
   ]
  },
  {
   "cell_type": "code",
   "execution_count": 16,
   "metadata": {},
   "outputs": [
    {
     "name": "stdout",
     "output_type": "stream",
     "text": [
      "761 29436.036499023438\n"
     ]
    }
   ],
   "source": [
    "cnt = 0\n",
    "sum_size = 0\n",
    "for i in size:\n",
    "    if i > 30:\n",
    "        cnt += 1\n",
    "        sum_size += i\n",
    "print(cnt, sum_size)"
   ]
  },
  {
   "cell_type": "markdown",
   "metadata": {},
   "source": [
    "# Breakdown large speakerID.npy into one utter per .npy"
   ]
  },
  {
   "cell_type": "code",
   "execution_count": 27,
   "metadata": {},
   "outputs": [],
   "source": [
    "db_single = \"/home/yrb/code/speechbrain/data/voxceleb/vox2/spmel_single\"\n",
    "\n",
    "npy_list = os.listdir(db)\n",
    "spkrID_list = [f[:-4] for f in npy_list if f.endswith(\".npy\")]\n",
    "files = [os.path.join(db, f) for f in npy_list if f.endswith(\".npy\")]"
   ]
  },
  {
   "cell_type": "code",
   "execution_count": 28,
   "metadata": {},
   "outputs": [
    {
     "name": "stderr",
     "output_type": "stream",
     "text": [
      "100%|██████████| 5994/5994 [15:19<00:00,  6.52it/s]\n"
     ]
    }
   ],
   "source": [
    "for spkr_i, utter_p in enumerate(tqdm(files)):\n",
    "    data = np.load(utter_p)\n",
    "    for utter_i in range(data.shape[0]):\n",
    "        # get random float between 0 and 1\n",
    "        cur_utter = data[utter_i, :, :].reshape(1, data.shape[1], data.shape[2])\n",
    "        # save utter to db_single\n",
    "        np.save(os.path.join(db_single, spkrID_list[spkr_i] + \"_\" + str(utter_i) + \".npy\"), cur_utter)"
   ]
  },
  {
   "cell_type": "code",
   "execution_count": null,
   "metadata": {},
   "outputs": [],
   "source": []
  }
 ],
 "metadata": {
  "interpreter": {
   "hash": "a15651361ac08648cc0367cb81428254d02008058b337497661685a8a3614813"
  },
  "kernelspec": {
   "display_name": "Python 3.8.12 ('speechbrain_ENV')",
   "language": "python",
   "name": "python3"
  },
  "language_info": {
   "codemirror_mode": {
    "name": "ipython",
    "version": 3
   },
   "file_extension": ".py",
   "mimetype": "text/x-python",
   "name": "python",
   "nbconvert_exporter": "python",
   "pygments_lexer": "ipython3",
   "version": "3.8.12"
  },
  "orig_nbformat": 4
 },
 "nbformat": 4,
 "nbformat_minor": 2
}
