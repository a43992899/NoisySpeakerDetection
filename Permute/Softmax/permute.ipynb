{
 "cells": [
  {
   "cell_type": "code",
   "execution_count": 7,
   "metadata": {},
   "outputs": [
    {
     "name": "stderr",
     "output_type": "stream",
     "text": [
      "100%|██████████| 5994/5994 [02:47<00:00, 35.81it/s]\n"
     ]
    }
   ],
   "source": [
    "import os\n",
    "import numpy as np\n",
    "import pickle\n",
    "import json\n",
    "import random\n",
    "from tqdm import tqdm\n",
    "\n",
    "db = \"/home/yrb/code/speechbrain/data/voxceleb/vox2/spmel\"\n",
    "permute_rate = 20\n",
    "\n",
    "npy_list = os.listdir(db)\n",
    "files = [os.path.join(db, f) for f in npy_list if f.endswith(\".npy\")]\n",
    "# filename without extension\n",
    "npy_list = [f[:-4] for f in npy_list if f.endswith(\".npy\")]\n",
    "mislabel_dict = {}\n",
    "for f in tqdm(files):\n",
    "    data = np.load(f)\n",
    "    for i in range(data.shape[0]):\n",
    "        # get random float between 0 and 1\n",
    "        if random.random() <= permute_rate/100:\n",
    "            # remove filepath\n",
    "            filename = os.path.split(f)[-1][:-4]\n",
    "            key = filename + \"_{}\".format(i)\n",
    "            # sample a random speaker\n",
    "            mislabel_dict[key] = random.sample(npy_list, 1)[0]"
   ]
  },
  {
   "cell_type": "code",
   "execution_count": 10,
   "metadata": {},
   "outputs": [],
   "source": [
    "# save to json\n",
    "with open(f\"/home/yrb/code/speechbrain/data/jsons/Permute/voxceleb2_{permute_rate}%_mislabel.json\", \"w\") as f:\n",
    "    json.dump(mislabel_dict, f)"
   ]
  },
  {
   "cell_type": "code",
   "execution_count": null,
   "metadata": {},
   "outputs": [],
   "source": []
  }
 ],
 "metadata": {
  "interpreter": {
   "hash": "a15651361ac08648cc0367cb81428254d02008058b337497661685a8a3614813"
  },
  "kernelspec": {
   "display_name": "Python 3.8.12 ('speechbrain_ENV')",
   "language": "python",
   "name": "python3"
  },
  "language_info": {
   "codemirror_mode": {
    "name": "ipython",
    "version": 3
   },
   "file_extension": ".py",
   "mimetype": "text/x-python",
   "name": "python",
   "nbconvert_exporter": "python",
   "pygments_lexer": "ipython3",
   "version": "3.8.12"
  },
  "orig_nbformat": 4
 },
 "nbformat": 4,
 "nbformat_minor": 2
}
