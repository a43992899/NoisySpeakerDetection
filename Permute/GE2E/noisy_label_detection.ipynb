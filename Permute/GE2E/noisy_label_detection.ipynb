{
 "cells": [
  {
   "cell_type": "code",
   "execution_count": 1,
   "metadata": {},
   "outputs": [],
   "source": [
    "import os\n",
    "# os.chdir(os.path.dirname(os.path.abspath(__file__))) # change to current file path\n",
    "import random\n",
    "import time, shutil\n",
    "import torch\n",
    "from torch.utils.data import DataLoader\n",
    "import torch.nn.functional as F\n",
    "from hparam import hparam as hp\n",
    "from data_load import SpeakerDatasetPreprocessed\n",
    "from speech_embedder_net import SpeechEmbedder, SpeechEmbedder_Softmax, GE2ELoss, GE2ELoss_, get_centroids, get_cossim\n",
    "from torch.utils.tensorboard import SummaryWriter\n",
    "from scipy.optimize import brentq\n",
    "from scipy.interpolate import interp1d\n",
    "from sklearn.metrics import roc_curve\n",
    "import numpy as np\n",
    "from numpy.linalg import solve\n",
    "import scipy.linalg\n",
    "import scipy.stats\n",
    "from tqdm import tqdm\n",
    "from utils import compute_eer\n",
    "\n",
    "random.seed(1)\n",
    "np.random.seed(1)\n",
    "torch.manual_seed(1)\n",
    "\n",
    "def get_n_params(model):\n",
    "    model_parameters = filter(lambda p: p.requires_grad, model.parameters())\n",
    "    params = sum([np.prod(p.size()) for p in model_parameters])\n",
    "\n",
    "    return params"
   ]
  },
  {
   "cell_type": "markdown",
   "metadata": {},
   "source": [
    "# Threshold based"
   ]
  },
  {
   "cell_type": "code",
   "execution_count": 3,
   "metadata": {},
   "outputs": [
    {
     "name": "stdout",
     "output_type": "stream",
     "text": [
      "Loading spkr2utter and spkr2utter_mislabel...\n"
     ]
    },
    {
     "name": "stderr",
     "output_type": "stream",
     "text": [
      "100%|██████████| 13706/13706 [00:00<00:00, 1586771.11it/s]\n"
     ]
    },
    {
     "name": "stdout",
     "output_type": "stream",
     "text": [
      "Number of params:  13687102\n"
     ]
    }
   ],
   "source": [
    "model_path = '/home/yrb/code/speechbrain/data/models/Permute/Softmax/SoftmaxExperiment1/Chance=0.2/ckpt_epoch_2_batch_id_45598.pth'\n",
    "\n",
    "device = torch.device(hp.device)\n",
    "random.seed(0)\n",
    "torch.manual_seed(0)\n",
    "torch.cuda.manual_seed_all(0)\n",
    "\n",
    "test_dataset = SpeakerDatasetPreprocessed()\n",
    "\n",
    "test_loader = DataLoader(test_dataset, batch_size=hp.test.N, shuffle=True, num_workers=hp.test.num_workers, drop_last=True)\n",
    "\n",
    "try:\n",
    "    embedder_net = SpeechEmbedder().to(device)\n",
    "    embedder_net.load_state_dict(torch.load(model_path))\n",
    "except:\n",
    "    embedder_net = SpeechEmbedder_Softmax(num_classes=5994).to(device)\n",
    "    embedder_net.load_state_dict(torch.load(model_path))\n",
    "embedder_net.eval()\n",
    "\n",
    "print(\"Number of params: \", get_n_params(embedder_net))"
   ]
  },
  {
   "cell_type": "code",
   "execution_count": null,
   "metadata": {},
   "outputs": [],
   "source": [
    "avg_EER = 0\n",
    "    \n",
    "ypreds = []\n",
    "ylabels = []\n",
    "\n",
    "for e in range(hp.test.epochs):\n",
    "    batch_avg_EER = 0\n",
    "    for batch_id, (mel_db_batch, labels, is_noisy, utterance_ids) in enumerate(tqdm(test_loader)):\n",
    "        assert hp.test.M % 2 == 0\n",
    "\n",
    "        utterance_ids = np.array(utterance_ids).T\n",
    "        mel_db_batch = mel_db_batch.to(device)\n",
    "        enrollment_batch, verification_batch = torch.split(mel_db_batch, int(mel_db_batch.size(1)/2), dim=1)\n",
    "        enrollment_batch = torch.reshape(enrollment_batch, (hp.test.N*hp.test.M//2, enrollment_batch.size(2), enrollment_batch.size(3)))\n",
    "        verification_batch = torch.reshape(verification_batch, (hp.test.N*hp.test.M//2, verification_batch.size(2), verification_batch.size(3)))\n",
    "        \n",
    "        perm = torch.randperm(verification_batch.size(0))\n",
    "        unperm = torch.argsort(perm)\n",
    "            \n",
    "        verification_batch = verification_batch[perm]\n",
    "        # get embedder_net attribute\n",
    "        if embedder_net.__class__.__name__ == 'SpeechEmbedder_Softmax':\n",
    "            enrollment_embeddings = embedder_net.get_embedding(enrollment_batch)\n",
    "            verification_embeddings = embedder_net.get_embedding(verification_batch)\n",
    "        else:\n",
    "            enrollment_embeddings = embedder_net(enrollment_batch)\n",
    "            verification_embeddings = embedder_net(verification_batch)\n",
    "\n",
    "        verification_embeddings = verification_embeddings[unperm]\n",
    "        \n",
    "        enrollment_embeddings = torch.reshape(enrollment_embeddings, (hp.test.N, hp.test.M//2, enrollment_embeddings.size(1)))\n",
    "        verification_embeddings = torch.reshape(verification_embeddings, (hp.test.N, hp.test.M//2, verification_embeddings.size(1)))\n",
    "        \n",
    "        enrollment_centroids = get_centroids(enrollment_embeddings)\n",
    "        veri_embed = torch.cat([verification_embeddings[:,0],verification_embeddings[:,1],verification_embeddings[:,2]])\n",
    "        \n",
    "        veri_embed_norm = veri_embed/torch.norm(veri_embed, dim = 1).unsqueeze(-1)\n",
    "        enrl_embed = torch.cat([enrollment_centroids]*1)\n",
    "        enrl_embed_norm = enrl_embed/torch.norm(enrl_embed, dim = 1).unsqueeze(-1)\n",
    "        sim_mat = torch.matmul(veri_embed_norm, enrl_embed_norm.transpose(-1, -2)).data.cpu().numpy()\n",
    "        truth = np.ones_like(sim_mat)*(-1)\n",
    "        for i in range(truth.shape[0]):\n",
    "            truth[i, i%10] = 1\n",
    "        ypreds.append(sim_mat.flatten())\n",
    "        ylabels.append(truth.flatten())\n",
    "\n",
    "    eer, thresh = compute_eer(ypreds, ylabels)\n",
    "    print(\"eer:\", eer, \"threshold:\", thresh)"
   ]
  },
  {
   "cell_type": "markdown",
   "metadata": {},
   "source": [
    "# O2U-Net"
   ]
  },
  {
   "cell_type": "code",
   "execution_count": null,
   "metadata": {},
   "outputs": [],
   "source": []
  }
 ],
 "metadata": {
  "interpreter": {
   "hash": "a15651361ac08648cc0367cb81428254d02008058b337497661685a8a3614813"
  },
  "kernelspec": {
   "display_name": "Python 3.8.12 ('speechbrain_ENV')",
   "language": "python",
   "name": "python3"
  },
  "language_info": {
   "codemirror_mode": {
    "name": "ipython",
    "version": 3
   },
   "file_extension": ".py",
   "mimetype": "text/x-python",
   "name": "python",
   "nbconvert_exporter": "python",
   "pygments_lexer": "ipython3",
   "version": "3.8.12"
  },
  "orig_nbformat": 4
 },
 "nbformat": 4,
 "nbformat_minor": 2
}
