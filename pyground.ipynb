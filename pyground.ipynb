{
 "cells": [
  {
   "cell_type": "code",
   "execution_count": null,
   "metadata": {},
   "outputs": [],
   "source": [
    "import os\n",
    "from pathlib import Path\n",
    "from PIL import Image\n",
    "\n",
    "def cut_img_half(img, out_path):\n",
    "    img = Image.open(img)\n",
    "    width, height = img.size\n",
    "    img1 = img.crop((0, 0, width/2, height))\n",
    "    img2 = img.crop((width/2, 0, width, height))\n",
    "    img1.save(out_path + '1.png')\n",
    "    img2.save(out_path + '2.png')"
   ]
  },
  {
   "cell_type": "code",
   "execution_count": null,
   "metadata": {},
   "outputs": [],
   "source": [
    "cut_img_half(\"data/aamsc-inconsistency-plot.png\", \"data/\")"
   ]
  },
  {
   "cell_type": "code",
   "execution_count": null,
   "metadata": {},
   "outputs": [],
   "source": [
    "import pandas as pd\n",
    "import numpy as np\n",
    "import matplotlib.pyplot as plt\n",
    "import seaborn as sns\n",
    "\n",
    "ypreds = \"data/training-models/Permute-20-AAMSC-bs256-s15.0-m0.1-K10-seed0/nld-confidence-inconsistencies-final.npy\"\n",
    "ylabels = ypreds.replace(\"inconsistencies\", \"noise-labels\")\n",
    "ypreds = np.load(ypreds)\n",
    "ylabels = np.load(ylabels)\n",
    "\n",
    "selected_indices = np.argsort(ypreds)\n",
    "# reverse order\n",
    "selected_indices = selected_indices[::-1]\n",
    "ypreds = ypreds[selected_indices]\n",
    "ylabels = ylabels[selected_indices]\n",
    "\n",
    "# # remove outliers\n",
    "# upper_threshold = ypreds.mean() + 2 * ypreds.std()\n",
    "# lower_threshold = ypreds.mean() - 2 * ypreds.std()\n",
    "# print(\"threshold\", [upper_threshold, lower_threshold], \"mean\", ypreds.mean(), \"std\", ypreds.std())\n",
    "# filtered_idx = np.where((ypreds < upper_threshold) & (ypreds > lower_threshold))[0]\n",
    "# ypreds = ypreds[filtered_idx]\n",
    "# ylabels = ylabels[filtered_idx]\n",
    "\n",
    "# normalize to [0,1]\n",
    "# ypreds = (ypreds - ypreds.min()) / (ypreds.max() - ypreds.min())\n",
    "\n",
    "print(\"mean\", ypreds.mean(), \"std\", ypreds.std())\n",
    "\n",
    "# create df from ypreds and ylabels\n",
    "df = pd.DataFrame({\"Inconsistency\": ypreds, \"isNoisy\": ylabels})\n",
    "print(\"plot Inconsistency distribution\")\n",
    "import seaborn as sns\n",
    "sns.set()\n",
    "# ax = sns.displot(ypreds)\n",
    "p = sns.displot(df, x=\"Inconsistency\", hue=\"isNoisy\")\n",
    "p.fig.set_dpi(100)"
   ]
  },
  {
   "cell_type": "code",
   "execution_count": null,
   "metadata": {},
   "outputs": [],
   "source": [
    "ypreds"
   ]
  },
  {
   "cell_type": "code",
   "execution_count": null,
   "metadata": {},
   "outputs": [],
   "source": [
    "50*0.5"
   ]
  },
  {
   "cell_type": "code",
   "execution_count": null,
   "metadata": {},
   "outputs": [],
   "source": [
    "75*0.75"
   ]
  },
  {
   "cell_type": "code",
   "execution_count": null,
   "metadata": {},
   "outputs": [],
   "source": []
  }
 ],
 "metadata": {
  "kernelspec": {
   "display_name": "speechbrain_ENV",
   "language": "python",
   "name": "python3"
  },
  "language_info": {
   "codemirror_mode": {
    "name": "ipython",
    "version": 3
   },
   "file_extension": ".py",
   "mimetype": "text/x-python",
   "name": "python",
   "nbconvert_exporter": "python",
   "pygments_lexer": "ipython3",
   "version": "3.8.12"
  },
  "orig_nbformat": 4
 },
 "nbformat": 4,
 "nbformat_minor": 2
}
