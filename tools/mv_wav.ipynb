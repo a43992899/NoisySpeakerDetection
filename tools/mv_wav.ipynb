{
 "cells": [
  {
   "cell_type": "code",
   "execution_count": 1,
   "metadata": {},
   "outputs": [],
   "source": [
    "import os\n",
    "voxceleb2_root = \"/home/yrb/code/speechbrain/data/vox2/\"\n",
    "aac_root = voxceleb2_root + \"aac/\"\n",
    "wav_root = voxceleb2_root + \"wav/\"\n",
    "for root, dirs, files in os.walk(voxceleb2_root, topdown=False):\n",
    "    for f in files:\n",
    "        if f.endswith('.wav'):\n",
    "            trg_dir = root.replace(aac_root, wav_root)\n",
    "            os.makedirs(trg_dir, exist_ok=True)\n",
    "            src_f = os.path.join(root, f)\n",
    "            trg_f = os.path.join(trg_dir, f)\n",
    "            os.system(f\"mv {src_f} {trg_f}\")"
   ]
  }
 ],
 "metadata": {
  "interpreter": {
   "hash": "01201641e4cfbbf3b904d4cff64aeb122a6cf80f069cafff8a6f45f6575659f6"
  },
  "kernelspec": {
   "display_name": "Python 3.8.12 64-bit ('speechbrain_ENV': virtualenv)",
   "language": "python",
   "name": "python3"
  },
  "language_info": {
   "codemirror_mode": {
    "name": "ipython",
    "version": 3
   },
   "file_extension": ".py",
   "mimetype": "text/x-python",
   "name": "python",
   "nbconvert_exporter": "python",
   "pygments_lexer": "ipython3",
   "version": "3.8.12"
  },
  "orig_nbformat": 4
 },
 "nbformat": 4,
 "nbformat_minor": 2
}
