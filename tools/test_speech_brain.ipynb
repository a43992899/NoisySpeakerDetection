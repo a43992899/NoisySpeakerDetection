{
 "cells": [
  {
   "cell_type": "code",
   "execution_count": 1,
   "metadata": {},
   "outputs": [
    {
     "name": "stdout",
     "output_type": "stream",
     "text": [
      "/home/stardust/data_4t_drive/yrb/speechbrain/tools\n"
     ]
    }
   ],
   "source": [
    "import os\n",
    "os.environ[\"CUDA_VISIBLE_DEVICES\"]=\"1\"\n",
    "from speechbrain.pretrained import SpeakerRecognition\n",
    "import torch\n",
    "import torchaudio\n",
    "import numpy as np\n",
    "import pickle\n",
    "from tqdm import tqdm\n",
    "\n",
    "cwd = os.getcwd()\n",
    "print(cwd)"
   ]
  },
  {
   "cell_type": "code",
   "execution_count": 2,
   "metadata": {},
   "outputs": [],
   "source": [
    "from torch.nn.utils.rnn import pad_sequence\n",
    "\n",
    "verification = SpeakerRecognition.from_hparams(\n",
    "    source=\"speechbrain/spkrec-ecapa-voxceleb\",\n",
    "    savedir=\"/home/stardust/data_4t_drive/yrb/speechbrain/data/pretrained_models/spkrec-ecapa-voxcelab\",\n",
    ")"
   ]
  },
  {
   "cell_type": "code",
   "execution_count": 7,
   "metadata": {},
   "outputs": [
    {
     "data": {
      "text/plain": [
       "(tensor([0.1379]), tensor([False]))"
      ]
     },
     "execution_count": 7,
     "metadata": {},
     "output_type": "execute_result"
    }
   ],
   "source": [
    "src_file = \"/home/stardust/data_4t_drive/yrb/speechbrain/data/多语种识别交付数据-第一批-星尘-20210629/Bulgarian_AroTqj_M_40_0001.wav\"\n",
    "trg_file = \"/home/stardust/data_4t_drive/yrb/speechbrain/data/多语种识别交付数据-第一批-星尘-20210629/Turkmen_wrHIqP_M_36_0002.wav\"\n",
    "score, prediction = verification.verify_files(src_file, trg_file)\n",
    "score, prediction"
   ]
  },
  {
   "cell_type": "code",
   "execution_count": null,
   "metadata": {},
   "outputs": [],
   "source": []
  }
 ],
 "metadata": {
  "interpreter": {
   "hash": "bd8eee0cbc6f7797359d3404f053b2d52b9ac67755e20db25e4fd1798cff53d2"
  },
  "kernelspec": {
   "display_name": "Python 3.8.0 64-bit ('speechbrain_ENV': venv)",
   "language": "python",
   "name": "python3"
  },
  "language_info": {
   "codemirror_mode": {
    "name": "ipython",
    "version": 3
   },
   "file_extension": ".py",
   "mimetype": "text/x-python",
   "name": "python",
   "nbconvert_exporter": "python",
   "pygments_lexer": "ipython3",
   "version": "3.8.0"
  },
  "orig_nbformat": 4
 },
 "nbformat": 4,
 "nbformat_minor": 2
}
