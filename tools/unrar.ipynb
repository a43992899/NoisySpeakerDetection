{
 "cells": [
  {
   "cell_type": "code",
   "execution_count": 7,
   "metadata": {},
   "outputs": [
    {
     "name": "stdout",
     "output_type": "stream",
     "text": [
      "Swedish_RMDM_XC_XLJ_20210629_1.rar\n",
      "Czech_LYGW_XC_XLJ_20210629_1.rar\n",
      "Greek_SZSJ_XC_XLJ_20210629_1.rar\n",
      "Greek_TYYL_XC_XLJ_20210629_1.rar\n",
      "Dutch_ZZWJ_XC_XLJ_20210629_1.rar\n",
      "Greek_SHJJ_XC_XLJ_20210629_1.rar\n",
      "Czech_YLXG_XC_XLJ_20210629_1.rar\n",
      "Greek_LYGW_XC_XLJ_20210629_1.rar\n",
      "Dutch_TYKY_XC_XLJ_20210629_1.rar\n",
      "Czech_ZZWJ_XC_XLJ_20210629_1.rar\n",
      "Italian_RMDM_XC_XLJ_20210629_1.rar\n",
      "Greek_JYXX_XC_XLJ_20210629_1.rar\n",
      "Czech_RMDM_XC_XLJ_20210629_1.rar\n",
      "Bulgarian_SHJJ_XC_XLJ_20210629_1.rar\n",
      "Swedish_TYYL_XC_XLJ_20210629_1.rar\n",
      "Czech_JYXX_XC_XLJ_20210629_1.rar\n",
      "Dutch_JYXX_XC_XLJ_20210629_1.rar\n",
      "Portuguese_RMDM_XC_XLJ_20210629_1.rar\n",
      "Bulgarian_RMDM_XC_XLJ_20210629_1.rar\n",
      "Italian_TYKY_XC_XLJ_20210629_1.rar\n",
      "Dutch_LYGW_XC_XLJ_20210629_1.rar\n",
      "Bulgarian_YLXG_XC_XLJ_20210629_1.rar\n",
      "Italian_LYGW_XC_XLJ_20210629_1.rar\n",
      "Portuguese_SZSJ_XC_XLJ_20210629_1.rar\n",
      "Czech_SZSJ_XC_XLJ_20210629_1.rar\n",
      "Portuguese_TYKY_XC_XLJ_20210629_1.rar\n",
      "Dutch_KJSM_XC_XLJ_20210629_1.rar\n",
      "Italian_YLXG_XC_XLJ_20210629_1.rar\n",
      "Portuguese_YLXG_XC_XLJ_20210629_1.rar\n",
      "Swedish_TYKY_XC_XLJ_20210629_1.rar\n",
      "Italian_SZSJ_XC_XLJ_20210629_1.rar\n",
      "Bulgarian_TYKY_XC_XLJ_20210629_1.rar\n",
      "Italian_JYXX_XC_XLJ_20210629_1.rar\n",
      "Turkmen_TYKY_XC_XLJ_20210629_1.rar\n",
      "Portuguese_JYXX_XC_XLJ_20210629_1.rar\n",
      "Portuguese_TYYL_XC_XLJ_20210629_1.rar\n",
      "Czech_TYKY_XC_XLJ_20210629_1.rar\n",
      "Greek_KJSM_XC_XLJ_20210629_1.rar\n",
      "Dutch_YLXG_XC_XLJ_20210629_1.rar\n",
      "Greek_YLXG_XC_XLJ_20210629_1.rar\n",
      "Bulgarian_LYGW_XC_XLJ_20210629_1.rar\n",
      "Czech_KJSM_XC_XLJ_20210629_1.rar\n",
      "Swedish_YLXG_XC_XLJ_20210629_1.rar\n",
      "Portuguese_SHJJ_XC_XLJ_20210629_1.rar\n",
      "Bulgarian_JYXX_XC_XLJ_20210629_1.rar\n",
      "Czech_TYYL_XC_XLJ_20210629_1.rar\n",
      "Italian_TYYL_XC_XLJ_20210629_1.rar\n",
      "Italian_KJSM_XC_XLJ_20210629_1.rar\n",
      "Italian_SHJJ_XC_XLJ_20210629_1.rar\n",
      "Portuguese_ZZWJ_XC_XLJ_20210629_1.rar\n",
      "Czech_SHJJ_XC_XLJ_20210629_1.rar\n",
      "Portuguese_KJSM_XC_XLJ_20210629_1.rar\n",
      "Swedish_JYXX_XC_XLJ_20210629_1.rar\n",
      "Greek_TYKY_XC_XLJ_20210629_1.rar\n",
      "Swedish_LYGW_XC_XLJ_20210629_1.rar\n",
      "Bulgarian_KJSM_XC_XLJ_20210629_1.rar\n",
      "Portuguese_LYGW_XC_XLJ_20210629_1.rar\n",
      "Greek_RMDM_XC_XLJ_20210629_1.rar\n",
      "Dutch_TYYL_XC_XLJ_20210629_1.rar\n",
      "Italian_ZZWJ_XC_XLJ_20210629_1.rar\n",
      "Swedish_KJSM_XC_XLJ_20210629_1.rar\n",
      "Dutch_RMDM_XC_XLJ_20210629_1.rar\n"
     ]
    }
   ],
   "source": [
    "import os\n",
    "speech_data_root = \"/home/stardust/data_4t_drive/yrb/speechbrain/data/\"\n",
    "subfolder = os.listdir(speech_data_root)\n",
    "for sub in subfolder:\n",
    "    if sub.startswith(\"多语种识别交付数据\"):\n",
    "        sub_path = os.path.join(speech_data_root, sub)\n",
    "        if os.path.isdir(sub_path):\n",
    "            for file in os.listdir(sub_path):\n",
    "                if file.endswith(\".rar\"):\n",
    "                    print(file)\n",
    "                    src_rar = os.path.join(sub_path, file)\n",
    "                    dst_dir = sub_path\n",
    "                    os.system(f\"unrar e {src_rar} {dst_dir} > /dev/null\")\n",
    "print('done!')"
   ]
  },
  {
   "cell_type": "code",
   "execution_count": null,
   "metadata": {},
   "outputs": [],
   "source": []
  }
 ],
 "metadata": {
  "interpreter": {
   "hash": "bd8eee0cbc6f7797359d3404f053b2d52b9ac67755e20db25e4fd1798cff53d2"
  },
  "kernelspec": {
   "display_name": "Python 3.8.0 64-bit ('speechbrain_ENV': venv)",
   "language": "python",
   "name": "python3"
  },
  "language_info": {
   "codemirror_mode": {
    "name": "ipython",
    "version": 3
   },
   "file_extension": ".py",
   "mimetype": "text/x-python",
   "name": "python",
   "nbconvert_exporter": "python",
   "pygments_lexer": "ipython3",
   "version": "3.8.0"
  },
  "orig_nbformat": 4
 },
 "nbformat": 4,
 "nbformat_minor": 2
}
