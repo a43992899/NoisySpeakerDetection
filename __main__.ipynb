{
 "cells": [
  {
   "cell_type": "code",
   "execution_count": 5,
   "metadata": {},
   "outputs": [],
   "source": [
    "from pathlib import Path\n",
    "import pandas as pd\n",
    "import yaml"
   ]
  },
  {
   "cell_type": "code",
   "execution_count": 20,
   "metadata": {},
   "outputs": [],
   "source": [
    "target = 'train'\n",
    "dicts = []\n",
    "for yaml_file in Path('./data/SEED_0/logs').iterdir():\n",
    "    with open(yaml_file, 'r') as f:\n",
    "        it = yaml.full_load_all(f)\n",
    "        for i in it:\n",
    "            i: dict\n",
    "            if i.get(target) is not None:\n",
    "                dicts.append(i[target])"
   ]
  },
  {
   "cell_type": "code",
   "execution_count": 21,
   "metadata": {},
   "outputs": [],
   "source": [
    "df = pd.DataFrame.from_dict(dicts)"
   ]
  },
  {
   "cell_type": "code",
   "execution_count": 22,
   "metadata": {},
   "outputs": [
    {
     "name": "stdout",
     "output_type": "stream",
     "text": [
      "debug, {False}\n",
      "restore, {False, True}\n",
      "noise_level, {0, 50, 75, 20}\n",
      "N, {128, 256, 32, 64, 8, 16}\n",
      "M, {16, 1, 4, 8}\n",
      "num_workers, {6}\n",
      "lr, {0.0001}\n",
      "optimizer, {'Adam'}\n",
      "loss, {'GE2E', 'AAMSC', 'CE', 'AAM'}\n",
      "s, {15}\n",
      "m, {0.1, 0.3}\n",
      "K, {10, 3, 20}\n",
      "epochs, {1600, 800, 3200, 200, 400}\n",
      "log_interval, {20}\n",
      "checkpoint_interval, {40, 20}\n",
      "checkpoint_dir, {'/home/yrb/code/speechbrain/data/models/Permute/Softmax/50%/bs128', '/home/yrb/code/speechbrain/data/models/Permute/AAM/75%/m0.1_s15_bs256', '/home/yrb/code/speechbrain/data/models/Permute/AAM/20%/m0.1_s15_bs128', '/home/yrb/code/speechbrain/data/models/Permute/Softmax/50%/bs256', '/home/yrb/code/speechbrain/data/models/Permute/Softmax/20%/', '/home/yrb/code/speechbrain/data/models/Permute/GE2E/0%/m4_bs256', '/home/yrb/code/speechbrain/data/models/Permute/AAMSC/50%/m0.1_s15_k10_bs256', '/home/yrb/code/speechbrain/data/models/Permute/AAMSC/50%/m0.1_s15_k3_bs128', '/home/yrb/code/speechbrain/data/models/Permute/Softmax/0%/bs256', '/home/yrb/code/speechbrain/data/models/Permute/AAMSC/0%/m0.1_s15_k10_bs256', '/home/yrb/code/speechbrain/data/models/Permute/GE2E/50%/m8_bs256', '/home/yrb/code/speechbrain/data/models/Permute/Softmax/0%/', '/home/yrb/code/speechbrain/data/models/Permute/AAM/50%/m0.1_s15_bs256', '/home/yrb/code/speechbrain/data/models/Permute/AAMSC/20%/m0.1_s15_k3_bs256', '/home/yrb/code/speechbrain/data/models/Permute/Softmax/75%/bs256', '/home/yrb/code/speechbrain/data/models/Permute/AAMSC/0%/m0.1_s15_k3_bs128', '/home/yrb/code/speechbrain/data/models/Permute/Softmax/20%/bs256', '/home/yrb/code/speechbrain/data/models/Permute/GE2E/exp1/', '/home/yrb/code/speechbrain/data/models/Permute/GE2E/20%/m8_bs256', '/home/yrb/code/speechbrain/data/models/Permute/AAMSC/20%/m0.1_s15_k10_bs128', '/home/yrb/code/speechbrain/data/models/Permute/AAMSC/20%/m0.1_s15_k10_bs256', '/home/yrb/code/speechbrain/data/models/Permute/AAM/20%/m0.1_s15_bs256', '/home/yrb/code/speechbrain/data/models/Permute/AAMSC/75%/m0.1_s15_k10_bs256', '/home/yrb/code/speechbrain/data/models/Permute/AAM/50%/m0.1_s15_bs128', '/home/yrb/code/speechbrain/data/models/Permute/AAM/75%/m0.1_s15_bs128', '/home/yrb/code/speechbrain/data/models/Permute/Softmax/75%/bs128', '/home/yrb/code/speechbrain/data/models/', '/home/yrb/code/speechbrain/data/models/Permute/AAMSC/0%/m0.1_s15_k3_bs256', '/home/yrb/code/speechbrain/data/models/Permute/GE2E/20%/', '/home/yrb/code/speechbrain/data/models/Permute/GE2E/75%/m16_bs256', '/home/yrb/code/speechbrain/data/models/Permute/AAMSC/20%/m0.1_s15_k3_bs128', '/home/yrb/code/speechbrain/data/models/Permute/AAM/0%/m0.1_s15_bs256', '/home/yrb/code/speechbrain/data/models/Permute/GE2E/50%/', '/home/yrb/code/speechbrain/data/models/Permute/GE2E/75%/m16_bs128', '/home/yrb/code/speechbrain/data/models/Permute/AAM/0%/m0.1_s15_bs128'}\n",
      "model_path, {'/home/yrb/code/speechbrain/data/models/Permute/AAMSC/75%/m0.1_s15_k10_bs256/ckpt_epoch_3200.pth', '/home/yrb/code/speechbrain/data/models/Permute/Softmax/0%/bs256/ckpt_epoch_940.pth', '/home/yrb/code/speechbrain/data/models/Permute/Softmax/75%/bs256/ckpt_epoch_940.pth', '/home/yrb/code/speechbrain/data/models/Permute/Softmax/50%/bs256/ckpt_epoch_940.pth', '/home/yrb/code/speechbrain/data/models/Permute/AAM/exp1/ckpt_epoch_800.pth', None, '/home/yrb/code/speechbrain/data/models/Permute/AAM/20%/m0.1_s15_bs128/ckpt_epoch_340.pth', '/home/yrb/code/speechbrain/data/models/Permute/Softmax/20%/bs256/ckpt_epoch_940.pth', '/home/yrb/code/speechbrain/data/models/Permute/AAM/75%/m0.1_s15_bs128/ckpt_epoch_320.pth', '/home/yrb/code/speechbrain/data/models/Permute/AAM/50%/m0.1_s15_bs128/ckpt_epoch_320.pth'}\n",
      "noise_type, {nan, 'Mix', 'Open', 'Permute'}\n"
     ]
    }
   ],
   "source": [
    "for name, data in df.iteritems():\n",
    "    print(f'{name}, {set(data)}')"
   ]
  },
  {
   "cell_type": "code",
   "execution_count": 19,
   "metadata": {},
   "outputs": [],
   "source": [
    "if '': print(1)"
   ]
  },
  {
   "cell_type": "code",
   "execution_count": null,
   "metadata": {},
   "outputs": [],
   "source": []
  }
 ],
 "metadata": {
  "kernelspec": {
   "display_name": "Python 3.8.12 ('speechbrain_ENV')",
   "language": "python",
   "name": "python3"
  },
  "language_info": {
   "codemirror_mode": {
    "name": "ipython",
    "version": 3
   },
   "file_extension": ".py",
   "mimetype": "text/x-python",
   "name": "python",
   "nbconvert_exporter": "python",
   "pygments_lexer": "ipython3",
   "version": "3.8.12"
  },
  "orig_nbformat": 4,
  "vscode": {
   "interpreter": {
    "hash": "39e9aee69d185e1dd34836a7e25e7f7b289042cc78d69e6ead41714ab0f9ce95"
   }
  }
 },
 "nbformat": 4,
 "nbformat_minor": 2
}
