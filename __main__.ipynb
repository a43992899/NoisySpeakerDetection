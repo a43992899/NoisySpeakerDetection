{
 "cells": [
  {
   "cell_type": "code",
   "execution_count": 1,
   "metadata": {},
   "outputs": [],
   "source": [
    "from pathlib import Path\n",
    "import pandas as pd\n",
    "import yaml\n",
    "import numpy as np"
   ]
  },
  {
   "cell_type": "code",
   "execution_count": 2,
   "metadata": {},
   "outputs": [],
   "source": [
    "old_dir = Path('./data/voxceleb/vox1_test/spmel_single')\n",
    "assert old_dir.is_dir()\n",
    "new = Path('./data/voxceleb-mel/vox1_test/id10270-231.npy')\n",
    "assert new.exists()"
   ]
  },
  {
   "cell_type": "code",
   "execution_count": 3,
   "metadata": {},
   "outputs": [
    {
     "name": "stdout",
     "output_type": "stream",
     "text": [
      "data/voxceleb/vox1_test/spmel_single/id10270_169.npy\n"
     ]
    }
   ],
   "source": [
    "new_npy = np.load(new)\n",
    "for p in old_dir.iterdir():\n",
    "    if np.sqrt(np.sum((np.load(p) - new_npy) ** 2)) == 0:\n",
    "        print(p)\n",
    "        break"
   ]
  },
  {
   "cell_type": "code",
   "execution_count": 4,
   "metadata": {},
   "outputs": [],
   "source": [
    "target = 'train'\n",
    "dicts = []\n",
    "for yaml_file in Path('./data/SEED_0/logs').iterdir():\n",
    "    if 'Permute-GE2E' in str(yaml_file):\n",
    "        with open(yaml_file, 'r') as f:\n",
    "            it = yaml.full_load_all(f)\n",
    "            for i in it:\n",
    "                i: dict\n",
    "                if i.get(target) is not None:\n",
    "                    dicts.append(i[target])"
   ]
  },
  {
   "cell_type": "code",
   "execution_count": 5,
   "metadata": {},
   "outputs": [],
   "source": [
    "df = pd.DataFrame.from_dict(dicts)"
   ]
  },
  {
   "cell_type": "code",
   "execution_count": 6,
   "metadata": {},
   "outputs": [
    {
     "data": {
      "text/html": [
       "<div>\n",
       "<style scoped>\n",
       "    .dataframe tbody tr th:only-of-type {\n",
       "        vertical-align: middle;\n",
       "    }\n",
       "\n",
       "    .dataframe tbody tr th {\n",
       "        vertical-align: top;\n",
       "    }\n",
       "\n",
       "    .dataframe thead th {\n",
       "        text-align: right;\n",
       "    }\n",
       "</style>\n",
       "<table border=\"1\" class=\"dataframe\">\n",
       "  <thead>\n",
       "    <tr style=\"text-align: right;\">\n",
       "      <th></th>\n",
       "      <th>debug</th>\n",
       "      <th>restore</th>\n",
       "      <th>noise_level</th>\n",
       "      <th>N</th>\n",
       "      <th>M</th>\n",
       "      <th>num_workers</th>\n",
       "      <th>lr</th>\n",
       "      <th>optimizer</th>\n",
       "      <th>loss</th>\n",
       "      <th>s</th>\n",
       "      <th>m</th>\n",
       "      <th>K</th>\n",
       "      <th>epochs</th>\n",
       "      <th>log_interval</th>\n",
       "      <th>checkpoint_interval</th>\n",
       "      <th>checkpoint_dir</th>\n",
       "      <th>model_path</th>\n",
       "    </tr>\n",
       "  </thead>\n",
       "  <tbody>\n",
       "    <tr>\n",
       "      <th>0</th>\n",
       "      <td>False</td>\n",
       "      <td>False</td>\n",
       "      <td>20</td>\n",
       "      <td>32</td>\n",
       "      <td>8</td>\n",
       "      <td>6</td>\n",
       "      <td>0.0001</td>\n",
       "      <td>Adam</td>\n",
       "      <td>GE2E</td>\n",
       "      <td>15</td>\n",
       "      <td>0.1</td>\n",
       "      <td>3</td>\n",
       "      <td>400</td>\n",
       "      <td>20</td>\n",
       "      <td>20</td>\n",
       "      <td>/home/yrb/code/speechbrain/data/models/Permute...</td>\n",
       "      <td>/home/yrb/code/speechbrain/data/models/Permute...</td>\n",
       "    </tr>\n",
       "    <tr>\n",
       "      <th>1</th>\n",
       "      <td>False</td>\n",
       "      <td>False</td>\n",
       "      <td>0</td>\n",
       "      <td>32</td>\n",
       "      <td>4</td>\n",
       "      <td>6</td>\n",
       "      <td>0.0001</td>\n",
       "      <td>Adam</td>\n",
       "      <td>GE2E</td>\n",
       "      <td>15</td>\n",
       "      <td>0.3</td>\n",
       "      <td>10</td>\n",
       "      <td>400</td>\n",
       "      <td>20</td>\n",
       "      <td>20</td>\n",
       "      <td>/home/yrb/code/speechbrain/data/models/Permute...</td>\n",
       "      <td>/home/yrb/code/speechbrain/data/models/Permute...</td>\n",
       "    </tr>\n",
       "    <tr>\n",
       "      <th>2</th>\n",
       "      <td>False</td>\n",
       "      <td>False</td>\n",
       "      <td>75</td>\n",
       "      <td>16</td>\n",
       "      <td>16</td>\n",
       "      <td>6</td>\n",
       "      <td>0.0001</td>\n",
       "      <td>Adam</td>\n",
       "      <td>GE2E</td>\n",
       "      <td>15</td>\n",
       "      <td>0.1</td>\n",
       "      <td>3</td>\n",
       "      <td>200</td>\n",
       "      <td>20</td>\n",
       "      <td>20</td>\n",
       "      <td>/home/yrb/code/speechbrain/data/models/Permute...</td>\n",
       "      <td>/home/yrb/code/speechbrain/data/models/Permute...</td>\n",
       "    </tr>\n",
       "    <tr>\n",
       "      <th>3</th>\n",
       "      <td>False</td>\n",
       "      <td>False</td>\n",
       "      <td>50</td>\n",
       "      <td>16</td>\n",
       "      <td>8</td>\n",
       "      <td>6</td>\n",
       "      <td>0.0001</td>\n",
       "      <td>Adam</td>\n",
       "      <td>GE2E</td>\n",
       "      <td>15</td>\n",
       "      <td>0.1</td>\n",
       "      <td>10</td>\n",
       "      <td>400</td>\n",
       "      <td>20</td>\n",
       "      <td>20</td>\n",
       "      <td>/home/yrb/code/speechbrain/data/models/Permute...</td>\n",
       "      <td>/home/yrb/code/speechbrain/data/models/Permute...</td>\n",
       "    </tr>\n",
       "    <tr>\n",
       "      <th>4</th>\n",
       "      <td>False</td>\n",
       "      <td>False</td>\n",
       "      <td>0</td>\n",
       "      <td>64</td>\n",
       "      <td>4</td>\n",
       "      <td>6</td>\n",
       "      <td>0.0001</td>\n",
       "      <td>Adam</td>\n",
       "      <td>GE2E</td>\n",
       "      <td>15</td>\n",
       "      <td>0.1</td>\n",
       "      <td>3</td>\n",
       "      <td>800</td>\n",
       "      <td>20</td>\n",
       "      <td>20</td>\n",
       "      <td>/home/yrb/code/speechbrain/data/models/Permute...</td>\n",
       "      <td>/home/yrb/code/speechbrain/data/models/Permute...</td>\n",
       "    </tr>\n",
       "    <tr>\n",
       "      <th>5</th>\n",
       "      <td>False</td>\n",
       "      <td>False</td>\n",
       "      <td>75</td>\n",
       "      <td>8</td>\n",
       "      <td>16</td>\n",
       "      <td>6</td>\n",
       "      <td>0.0001</td>\n",
       "      <td>Adam</td>\n",
       "      <td>GE2E</td>\n",
       "      <td>15</td>\n",
       "      <td>0.1</td>\n",
       "      <td>10</td>\n",
       "      <td>400</td>\n",
       "      <td>20</td>\n",
       "      <td>20</td>\n",
       "      <td>/home/yrb/code/speechbrain/data/models/Permute...</td>\n",
       "      <td>/home/yrb/code/speechbrain/data/models/Permute...</td>\n",
       "    </tr>\n",
       "    <tr>\n",
       "      <th>6</th>\n",
       "      <td>False</td>\n",
       "      <td>False</td>\n",
       "      <td>50</td>\n",
       "      <td>32</td>\n",
       "      <td>8</td>\n",
       "      <td>6</td>\n",
       "      <td>0.0001</td>\n",
       "      <td>Adam</td>\n",
       "      <td>GE2E</td>\n",
       "      <td>15</td>\n",
       "      <td>0.1</td>\n",
       "      <td>3</td>\n",
       "      <td>400</td>\n",
       "      <td>20</td>\n",
       "      <td>20</td>\n",
       "      <td>/home/yrb/code/speechbrain/data/models/Permute...</td>\n",
       "      <td>/home/yrb/code/speechbrain/data/models/Permute...</td>\n",
       "    </tr>\n",
       "    <tr>\n",
       "      <th>7</th>\n",
       "      <td>False</td>\n",
       "      <td>False</td>\n",
       "      <td>20</td>\n",
       "      <td>16</td>\n",
       "      <td>8</td>\n",
       "      <td>6</td>\n",
       "      <td>0.0001</td>\n",
       "      <td>Adam</td>\n",
       "      <td>GE2E</td>\n",
       "      <td>15</td>\n",
       "      <td>0.1</td>\n",
       "      <td>10</td>\n",
       "      <td>400</td>\n",
       "      <td>20</td>\n",
       "      <td>20</td>\n",
       "      <td>/home/yrb/code/speechbrain/data/models/Permute...</td>\n",
       "      <td>/home/yrb/code/speechbrain/data/models/Permute...</td>\n",
       "    </tr>\n",
       "  </tbody>\n",
       "</table>\n",
       "</div>"
      ],
      "text/plain": [
       "   debug  restore  noise_level   N   M  num_workers      lr optimizer  loss  \\\n",
       "0  False    False           20  32   8            6  0.0001      Adam  GE2E   \n",
       "1  False    False            0  32   4            6  0.0001      Adam  GE2E   \n",
       "2  False    False           75  16  16            6  0.0001      Adam  GE2E   \n",
       "3  False    False           50  16   8            6  0.0001      Adam  GE2E   \n",
       "4  False    False            0  64   4            6  0.0001      Adam  GE2E   \n",
       "5  False    False           75   8  16            6  0.0001      Adam  GE2E   \n",
       "6  False    False           50  32   8            6  0.0001      Adam  GE2E   \n",
       "7  False    False           20  16   8            6  0.0001      Adam  GE2E   \n",
       "\n",
       "    s    m   K  epochs  log_interval  checkpoint_interval  \\\n",
       "0  15  0.1   3     400            20                   20   \n",
       "1  15  0.3  10     400            20                   20   \n",
       "2  15  0.1   3     200            20                   20   \n",
       "3  15  0.1  10     400            20                   20   \n",
       "4  15  0.1   3     800            20                   20   \n",
       "5  15  0.1  10     400            20                   20   \n",
       "6  15  0.1   3     400            20                   20   \n",
       "7  15  0.1  10     400            20                   20   \n",
       "\n",
       "                                      checkpoint_dir  \\\n",
       "0  /home/yrb/code/speechbrain/data/models/Permute...   \n",
       "1  /home/yrb/code/speechbrain/data/models/Permute...   \n",
       "2  /home/yrb/code/speechbrain/data/models/Permute...   \n",
       "3  /home/yrb/code/speechbrain/data/models/Permute...   \n",
       "4  /home/yrb/code/speechbrain/data/models/Permute...   \n",
       "5  /home/yrb/code/speechbrain/data/models/Permute...   \n",
       "6  /home/yrb/code/speechbrain/data/models/Permute...   \n",
       "7  /home/yrb/code/speechbrain/data/models/Permute...   \n",
       "\n",
       "                                          model_path  \n",
       "0  /home/yrb/code/speechbrain/data/models/Permute...  \n",
       "1  /home/yrb/code/speechbrain/data/models/Permute...  \n",
       "2  /home/yrb/code/speechbrain/data/models/Permute...  \n",
       "3  /home/yrb/code/speechbrain/data/models/Permute...  \n",
       "4  /home/yrb/code/speechbrain/data/models/Permute...  \n",
       "5  /home/yrb/code/speechbrain/data/models/Permute...  \n",
       "6  /home/yrb/code/speechbrain/data/models/Permute...  \n",
       "7  /home/yrb/code/speechbrain/data/models/Permute...  "
      ]
     },
     "execution_count": 6,
     "metadata": {},
     "output_type": "execute_result"
    }
   ],
   "source": [
    "df"
   ]
  },
  {
   "cell_type": "code",
   "execution_count": 7,
   "metadata": {},
   "outputs": [
    {
     "name": "stdout",
     "output_type": "stream",
     "text": [
      "debug, {False}\n",
      "restore, {False}\n",
      "noise_level, {0, 50, 75, 20}\n",
      "N, {32, 16, 64, 8}\n",
      "M, {8, 16, 4}\n",
      "num_workers, {6}\n",
      "lr, {0.0001}\n",
      "optimizer, {'Adam'}\n",
      "loss, {'GE2E'}\n",
      "s, {15}\n",
      "m, {0.1, 0.3}\n",
      "K, {10, 3}\n",
      "epochs, {400, 800, 200}\n",
      "log_interval, {20}\n",
      "checkpoint_interval, {20}\n",
      "checkpoint_dir, {'/home/yrb/code/speechbrain/data/models/Permute/GE2E/exp1/', '/home/yrb/code/speechbrain/data/models/Permute/GE2E/20%/', '/home/yrb/code/speechbrain/data/models/Permute/GE2E/75%/m16_bs128', '/home/yrb/code/speechbrain/data/models/Permute/GE2E/0%/m4_bs256', '/home/yrb/code/speechbrain/data/models/Permute/GE2E/75%/m16_bs256', '/home/yrb/code/speechbrain/data/models/Permute/GE2E/50%/', '/home/yrb/code/speechbrain/data/models/Permute/GE2E/50%/m8_bs256', '/home/yrb/code/speechbrain/data/models/Permute/GE2E/20%/m8_bs256'}\n",
      "model_path, {'/home/yrb/code/speechbrain/data/models/Permute/AAM/50%/m0.1_s15_bs128/ckpt_epoch_320.pth', '/home/yrb/code/speechbrain/data/models/Permute/Softmax/75%/bs256/ckpt_epoch_940.pth', '/home/yrb/code/speechbrain/data/models/Permute/AAM/exp1/ckpt_epoch_800.pth'}\n"
     ]
    }
   ],
   "source": [
    "for name, data in df.iteritems():\n",
    "    print(f'{name}, {set(data)}')"
   ]
  },
  {
   "cell_type": "code",
   "execution_count": 7,
   "metadata": {},
   "outputs": [
    {
     "data": {
      "text/plain": [
       "{'/home/yrb/code/speechbrain/data/voxceleb/vox1_test/spmel_single'}"
      ]
     },
     "execution_count": 7,
     "metadata": {},
     "output_type": "execute_result"
    }
   ],
   "source": [
    "set(df['test_path'])"
   ]
  },
  {
   "cell_type": "code",
   "execution_count": 1,
   "metadata": {},
   "outputs": [
    {
     "ename": "NameError",
     "evalue": "name 'Path' is not defined",
     "output_type": "error",
     "traceback": [
      "\u001b[0;31m---------------------------------------------------------------------------\u001b[0m",
      "\u001b[0;31mNameError\u001b[0m                                 Traceback (most recent call last)",
      "\u001b[0;32m/tmp/ipykernel_28667/1672934580.py\u001b[0m in \u001b[0;36m<module>\u001b[0;34m\u001b[0m\n\u001b[0;32m----> 1\u001b[0;31m \u001b[0mPath\u001b[0m\u001b[0;34m(\u001b[0m\u001b[0;34m)\u001b[0m\u001b[0;34m\u001b[0m\u001b[0;34m\u001b[0m\u001b[0m\n\u001b[0m",
      "\u001b[0;31mNameError\u001b[0m: name 'Path' is not defined"
     ]
    }
   ],
   "source": [
    "Path()"
   ]
  },
  {
   "cell_type": "code",
   "execution_count": null,
   "metadata": {},
   "outputs": [],
   "source": []
  }
 ],
 "metadata": {
  "kernelspec": {
   "display_name": "Python 3.8.12 ('speechbrain_ENV')",
   "language": "python",
   "name": "python3"
  },
  "language_info": {
   "codemirror_mode": {
    "name": "ipython",
    "version": 3
   },
   "file_extension": ".py",
   "mimetype": "text/x-python",
   "name": "python",
   "nbconvert_exporter": "python",
   "pygments_lexer": "ipython3",
   "version": "3.8.12"
  },
  "orig_nbformat": 4,
  "vscode": {
   "interpreter": {
    "hash": "39e9aee69d185e1dd34836a7e25e7f7b289042cc78d69e6ead41714ab0f9ce95"
   }
  }
 },
 "nbformat": 4,
 "nbformat_minor": 2
}
