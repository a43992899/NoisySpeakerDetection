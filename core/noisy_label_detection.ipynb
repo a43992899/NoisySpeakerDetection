{
 "cells": [
  {
   "cell_type": "code",
   "execution_count": 1,
   "metadata": {},
   "outputs": [
    {
     "name": "stdout",
     "output_type": "stream",
     "text": [
      "nld\n"
     ]
    }
   ],
   "source": [
    "import os\n",
    "# os.chdir(os.path.dirname(os.path.abspath(__file__))) # change to current file path\n",
    "import random\n",
    "import time, shutil\n",
    "import torch\n",
    "from torch.utils.data import DataLoader\n",
    "import torch.nn.functional as F\n",
    "from hparam import hparam as hp\n",
    "from data_load import SpeakerDatasetPreprocessed\n",
    "from speech_embedder_net import SpeechEmbedder, SpeechEmbedder_Softmax, GE2ELoss, GE2ELoss_, get_centroids, get_cossim\n",
    "from torch.utils.tensorboard import SummaryWriter\n",
    "from scipy.optimize import brentq\n",
    "from scipy.interpolate import interp1d\n",
    "from sklearn.metrics import roc_curve\n",
    "from sklearn.metrics import precision_recall_curve\n",
    "import numpy as np\n",
    "from numpy.linalg import solve\n",
    "import scipy.linalg\n",
    "import scipy.stats\n",
    "from tqdm import tqdm\n",
    "from utils import compute_eer, fit_bmm\n",
    "import pandas as pd\n",
    "from sklearn.mixture import GaussianMixture\n",
    "\n",
    "random.seed(1)\n",
    "np.random.seed(1)\n",
    "torch.manual_seed(1)\n",
    "print(hp.stage)\n",
    "def get_n_params(model):\n",
    "    model_parameters = filter(lambda p: p.requires_grad, model.parameters())\n",
    "    params = sum([np.prod(p.size()) for p in model_parameters])\n",
    "\n",
    "    return params"
   ]
  },
  {
   "cell_type": "markdown",
   "metadata": {},
   "source": [
    "# Distance Ranking\n",
    "## $\\mathbf{c}_{s}=\\frac{1}{\\sum_{u} 1} \\sum_{u} \\mathbf{f}_{s, u}$\n",
    "## $\\mathbf{d(f_{s, u}, c_s)} = 1 - \\dfrac{\\mathbf{f}_{s, u} \\cdot \\mathbf{c}_s}{\\Vert \\mathbf{f}_{s, u} \\Vert _2 \\cdot \\Vert \\mathbf{c}_s \\Vert _2}$"
   ]
  },
  {
   "cell_type": "code",
   "execution_count": 2,
   "metadata": {},
   "outputs": [
    {
     "name": "stdout",
     "output_type": "stream",
     "text": [
      "Number of params:  13687102\n"
     ]
    }
   ],
   "source": [
    "model_path = hp.nld.model_path\n",
    "\n",
    "device = torch.device(hp.device)\n",
    "random.seed(0)\n",
    "torch.manual_seed(0)\n",
    "torch.cuda.manual_seed_all(0)\n",
    "\n",
    "try:\n",
    "    embedder_net = SpeechEmbedder().to(device)\n",
    "    embedder_net.load_state_dict(torch.load(model_path))\n",
    "except:\n",
    "    embedder_net = SpeechEmbedder_Softmax(num_classes=5994).to(device)\n",
    "    embedder_net.load_state_dict(torch.load(model_path))\n",
    "embedder_net.eval()\n",
    "\n",
    "print(\"Number of params: \", get_n_params(embedder_net))"
   ]
  },
  {
   "cell_type": "code",
   "execution_count": 3,
   "metadata": {},
   "outputs": [
    {
     "name": "stdout",
     "output_type": "stream",
     "text": [
      "Loading spkr2utter and spkr2utter_mislabel...\n"
     ]
    },
    {
     "name": "stderr",
     "output_type": "stream",
     "text": [
      "100%|██████████| 2918286/2918286 [00:02<00:00, 1261929.90it/s]\n",
      "  8%|▊         | 500/5994 [01:07<12:19,  7.43it/s]\n"
     ]
    }
   ],
   "source": [
    "ypreds = []\n",
    "ylabels = []\n",
    "\n",
    "\n",
    "def extract_emb(embedder_net, batch):\n",
    "    if batch.ndim == 4:\n",
    "        batch = batch.reshape(-1, batch.size(2), batch.size(3))\n",
    "    if embedder_net.__class__.__name__ == 'SpeechEmbedder_Softmax':\n",
    "        embeddings = embedder_net.get_embedding(batch)\n",
    "    else:\n",
    "        embeddings = embedder_net(batch)\n",
    "    return embeddings\n",
    "\n",
    "cos = torch.nn.CosineSimilarity(dim=-1, eps=1e-6)\n",
    "nld_dataset = SpeakerDatasetPreprocessed(hp)\n",
    "nld_loader = DataLoader(nld_dataset, batch_size=hp.nld.N, shuffle=False, num_workers=hp.nld.num_workers, drop_last=False)\n",
    "for batch_id, (mel_db_batch, labels, is_noisy, utterance_ids) in enumerate(tqdm(nld_loader)):\n",
    "    utterance_ids = np.array(utterance_ids).T\n",
    "    mel_db_batch = mel_db_batch.to(device)\n",
    "    \n",
    "    embeddings = extract_emb(embedder_net, mel_db_batch) \n",
    "    embeddings = torch.reshape(embeddings, (hp.nld.N, hp.nld.M, embeddings.size(1))) # (1, M, 256)\n",
    "    centroid = embeddings.mean(dim=1, keepdim=True)\n",
    "    embeddings = embeddings / embeddings.norm(dim=2, keepdim=True) \n",
    "    centroid = centroid / centroid.norm(dim=2, keepdim=True)\n",
    "    cos_sim = get_cossim(embeddings, centroid, cos)\n",
    "    ypreds.extend((1 - cos_sim).reshape(-1).cpu().detach().numpy().tolist())\n",
    "    ylabels.extend(is_noisy.reshape(-1).cpu().detach().numpy().tolist())\n",
    "    if batch_id == 500:\n",
    "        break\n",
    "    \n",
    "\n"
   ]
  },
  {
   "cell_type": "code",
   "execution_count": 11,
   "metadata": {},
   "outputs": [
    {
     "name": "stdout",
     "output_type": "stream",
     "text": [
      "noise level:  75\n",
      "top noise level precision:  0.8332673510240268\n"
     ]
    }
   ],
   "source": [
    "# select top noise level % from ypreds\n",
    "noise_level = hp.nld.noise_level\n",
    "print(\"noise level: \", hp.nld.noise_level)\n",
    "ypreds = np.array(ypreds)\n",
    "ylabels = np.array(ylabels)\n",
    "\n",
    "def compute_precision(ypreds, ylabels, noise_level):\n",
    "    selected = np.argsort(ypreds)[-int(len(ypreds) * noise_level / 100):]\n",
    "    selected_ypreds = ypreds[selected]\n",
    "    selected_ylabels = ylabels[selected]\n",
    "    # compute precision\n",
    "    return selected_ylabels.sum() / len(selected_ylabels)\n",
    "\n",
    "print(\"top noise level precision: \", compute_precision(ypreds, ylabels, noise_level))"
   ]
  },
  {
   "cell_type": "code",
   "execution_count": 12,
   "metadata": {},
   "outputs": [
    {
     "name": "stdout",
     "output_type": "stream",
     "text": [
      "plot distance distribution\n"
     ]
    },
    {
     "data": {
      "text/plain": [
       "<seaborn.axisgrid.FacetGrid at 0x7f6c09134a60>"
      ]
     },
     "execution_count": 12,
     "metadata": {},
     "output_type": "execute_result"
    },
    {
     "data": {
      "image/png": "[encoded data removed]",
      "text/plain": [
       "<Figure size 411.55x360 with 1 Axes>"
      ]
     },
     "metadata": {},
     "output_type": "display_data"
    }
   ],
   "source": [
    "# create df from ypreds and ylabels\n",
    "df = pd.DataFrame({\"distance\": ypreds, \"isNoisy\": ylabels})\n",
    "print(\"plot distance distribution\")\n",
    "import seaborn as sns\n",
    "sns.set()\n",
    "# ax = sns.displot(ypreds)\n",
    "sns.displot(df, x=\"distance\", hue=\"isNoisy\")"
   ]
  },
  {
   "cell_type": "markdown",
   "metadata": {},
   "source": [
    "## predict with BMM"
   ]
  },
  {
   "cell_type": "code",
   "execution_count": 13,
   "metadata": {},
   "outputs": [
    {
     "name": "stdout",
     "output_type": "stream",
     "text": [
      "Estimated noise level:  0.79664133572296\n",
      "Noise level:  76.43796890290312\n",
      "top estimated noise level precision:  0.9474789915966386\n",
      "top noise level precision:  0.8332673510240268\n"
     ]
    },
    {
     "data": {
      "image/png": "[encoded data removed]",
      "text/plain": [
       "<Figure size 432x288 with 1 Axes>"
      ]
     },
     "metadata": {},
     "output_type": "display_data"
    }
   ],
   "source": [
    "bmm_model, bmm_model_max, bmm_model_min = fit_bmm(ypreds, max_iters=50)\n",
    "bmm_model.plot()\n",
    "\n",
    "# Noise level estimation\n",
    "if hp.nld.noise_level >=70:\n",
    "    estimated_noise_level = bmm_model.weight[0]\n",
    "else:\n",
    "    estimated_noise_level = bmm_model.weight[1]\n",
    "print(\"Estimated noise level: \", estimated_noise_level)\n",
    "print(\"Noise level: \", ylabels.sum() / len(ylabels) * 100)\n",
    "print(\"top estimated noise level precision: \", compute_precision(ypreds, ylabels, estimated_noise_level))\n",
    "print(\"top noise level precision: \", compute_precision(ypreds, ylabels, hp.nld.noise_level))"
   ]
  },
  {
   "cell_type": "code",
   "execution_count": 14,
   "metadata": {},
   "outputs": [
    {
     "name": "stdout",
     "output_type": "stream",
     "text": [
      "BMM precision:  nan\n"
     ]
    },
    {
     "name": "stderr",
     "output_type": "stream",
     "text": [
      "/tmp/ipykernel_28295/3364639288.py:4: RuntimeWarning: invalid value encountered in long_scalars\n",
      "  bmm_precision = (ypreds_bmm * ylabels).sum() / ypreds_bmm.sum()\n"
     ]
    }
   ],
   "source": [
    "ypreds_bmm = bmm_model.predict(ypreds)\n",
    "if hp.nld.noise_level >=70:\n",
    "    ypreds_bmm = 1 - ypreds_bmm\n",
    "bmm_precision = (ypreds_bmm * ylabels).sum() / ypreds_bmm.sum()\n",
    "print(\"BMM precision: \", bmm_precision)"
   ]
  },
  {
   "cell_type": "markdown",
   "metadata": {},
   "source": [
    "## Predict with GMM"
   ]
  },
  {
   "cell_type": "code",
   "execution_count": 11,
   "metadata": {},
   "outputs": [
    {
     "name": "stdout",
     "output_type": "stream",
     "text": [
      "Estimated noise level:  24.228067526885543\n",
      "Noise level:  0.0\n",
      "top estimated noise level precision:  0.0\n"
     ]
    }
   ],
   "source": [
    "gmm_model = GaussianMixture(n_components=2, random_state=1)\n",
    "gmm_model.fit(ypreds.reshape(-1, 1))\n",
    "\n",
    "\n",
    "# Noise level estimation\n",
    "ypreds_gmm = gmm_model.predict(ypreds.reshape(-1, 1))\n",
    "if gmm_model.means_[0][0] > gmm_model.means_[1][0]:\n",
    "    ypreds_gmm = 1 - ypreds_gmm\n",
    "estimated_noise_level = ypreds_gmm.sum() / len(ypreds) * 100\n",
    "print(\"Estimated noise level: \", estimated_noise_level)\n",
    "print(\"Noise level: \", ylabels.sum() / len(ylabels) * 100)\n",
    "print(\"top estimated noise level precision: \", compute_precision(ypreds, ylabels, estimated_noise_level))"
   ]
  },
  {
   "cell_type": "code",
   "execution_count": 12,
   "metadata": {},
   "outputs": [
    {
     "name": "stdout",
     "output_type": "stream",
     "text": [
      "GMM precision:  0.0\n"
     ]
    }
   ],
   "source": [
    "gmm_precision = (ypreds_gmm * ylabels).sum() / ypreds_gmm.sum()\n",
    "print(\"GMM precision: \", gmm_precision)"
   ]
  },
  {
   "cell_type": "markdown",
   "metadata": {},
   "source": [
    "# Plot PR curve and ROC curve"
   ]
  },
  {
   "cell_type": "code",
   "execution_count": 15,
   "metadata": {},
   "outputs": [
    {
     "data": {
      "image/png": "[encoded data removed]",
      "text/plain": [
       "<Figure size 432x288 with 1 Axes>"
      ]
     },
     "metadata": {
      "needs_background": "light"
     },
     "output_type": "display_data"
    }
   ],
   "source": [
    "import matplotlib\n",
    "import matplotlib.pyplot as plt\n",
    "\n",
    "plt.figure(\"P-R Curve\")\n",
    "plt.title('Precision/Recall Curve')\n",
    "plt.xlabel('Recall')\n",
    "plt.ylabel('Precision')\n",
    "precision, recall, thresholds = precision_recall_curve(ylabels, ypreds)\n",
    "plt.plot(recall,precision)\n",
    "plt.show()"
   ]
  },
  {
   "cell_type": "code",
   "execution_count": 16,
   "metadata": {},
   "outputs": [
    {
     "data": {
      "image/png": "[encoded data removed]",
      "text/plain": [
       "<Figure size 432x288 with 1 Axes>"
      ]
     },
     "metadata": {
      "needs_background": "light"
     },
     "output_type": "display_data"
    },
    {
     "name": "stdout",
     "output_type": "stream",
     "text": [
      "AUC:  0.9111613469759214\n"
     ]
    }
   ],
   "source": [
    "# plot roc curve and compute auc\n",
    "fpr, tpr, thresholds = roc_curve(ylabels, ypreds)\n",
    "auc = scipy.integrate.trapz(tpr, fpr)\n",
    "plt.figure(\"ROC Curve\")\n",
    "plt.title('ROC Curve')\n",
    "plt.xlabel('False Positive Rate')\n",
    "plt.ylabel('True Positive Rate')\n",
    "plt.plot(fpr, tpr)\n",
    "plt.show()\n",
    "print(\"AUC: \", auc)"
   ]
  },
  {
   "cell_type": "code",
   "execution_count": null,
   "metadata": {},
   "outputs": [],
   "source": []
  },
  {
   "cell_type": "code",
   "execution_count": null,
   "metadata": {},
   "outputs": [],
   "source": []
  },
  {
   "cell_type": "markdown",
   "metadata": {},
   "source": [
    "# Loss Ranking"
   ]
  },
  {
   "cell_type": "code",
   "execution_count": null,
   "metadata": {},
   "outputs": [],
   "source": []
  },
  {
   "cell_type": "markdown",
   "metadata": {},
   "source": [
    "# Inconsistency Ranking"
   ]
  },
  {
   "cell_type": "markdown",
   "metadata": {},
   "source": [
    "## $\\mathbf{I}_u = max(  (1 - y) \\textbf{CLS}(u; \\theta))$"
   ]
  },
  {
   "cell_type": "code",
   "execution_count": null,
   "metadata": {},
   "outputs": [],
   "source": []
  }
 ],
 "metadata": {
  "interpreter": {
   "hash": "a15651361ac08648cc0367cb81428254d02008058b337497661685a8a3614813"
  },
  "kernelspec": {
   "display_name": "Python 3.8.12 ('speechbrain_ENV')",
   "language": "python",
   "name": "python3"
  },
  "language_info": {
   "codemirror_mode": {
    "name": "ipython",
    "version": 3
   },
   "file_extension": ".py",
   "mimetype": "text/x-python",
   "name": "python",
   "nbconvert_exporter": "python",
   "pygments_lexer": "ipython3",
   "version": "3.8.12"
  },
  "orig_nbformat": 4
 },
 "nbformat": 4,
 "nbformat_minor": 2
}
