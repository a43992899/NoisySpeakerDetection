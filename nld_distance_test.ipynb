{
 "cells": [
  {
   "cell_type": "code",
   "execution_count": 3,
   "metadata": {},
   "outputs": [],
   "source": [
    "import json\n",
    "from pathlib import Path\n",
    "from typing import Dict, List, Tuple\n",
    "\n",
    "import numpy as np\n",
    "import numpy.typing as npt\n",
    "import torch\n",
    "from torch import Tensor\n",
    "from torch.cuda import is_available as cuda_is_available\n",
    "from torch.nn.functional import cosine_similarity, normalize, one_hot, softmax\n",
    "from torch.utils.data import DataLoader\n",
    "from tqdm.auto import tqdm\n",
    "\n",
    "from nld.constant.config import DataConfig, TrainConfig\n",
    "from nld.model.loss import AAMSoftmax, GE2ELoss, SubcenterArcMarginProduct\n",
    "from nld.process_data.dataset import (VOX2_CLASS_NUM, SpeakerLabelDataset,\n",
    "                                    SpeakerUtteranceDataset)\n",
    "from nld.process_data.mislabel import find_mislabeled_json\n",
    "from nld.utils import clean_memory\n",
    "from nld.nld.beta_mixture import fit_bmm"
   ]
  },
  {
   "cell_type": "code",
   "execution_count": null,
   "metadata": {},
   "outputs": [],
   "source": []
  }
 ],
 "metadata": {
  "kernelspec": {
   "display_name": "Python 3.8.12 ('speechbrain_ENV')",
   "language": "python",
   "name": "python3"
  },
  "language_info": {
   "codemirror_mode": {
    "name": "ipython",
    "version": 3
   },
   "file_extension": ".py",
   "mimetype": "text/x-python",
   "name": "python",
   "nbconvert_exporter": "python",
   "pygments_lexer": "ipython3",
   "version": "3.8.12"
  },
  "orig_nbformat": 4,
  "vscode": {
   "interpreter": {
    "hash": "39e9aee69d185e1dd34836a7e25e7f7b289042cc78d69e6ead41714ab0f9ce95"
   }
  }
 },
 "nbformat": 4,
 "nbformat_minor": 2
}
